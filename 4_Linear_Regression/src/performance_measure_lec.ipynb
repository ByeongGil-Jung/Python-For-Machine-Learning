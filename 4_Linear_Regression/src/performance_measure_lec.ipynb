{
 "cells": [
  {
   "cell_type": "code",
   "execution_count": 1,
   "metadata": {
    "collapsed": false
   },
   "outputs": [
    {
     "data": {
      "text/plain": [
       "' [ Performance Measure ] '"
      ]
     },
     "execution_count": 1,
     "metadata": {},
     "output_type": "execute_result"
    }
   ],
   "source": [
    "\"\"\" [ Performance Measure ] \"\"\"\n",
    "# 만든 모델이 얼마나 실제 값을 잘 대변해주는가를 상대적으로 비교를 하기 위해 만든 지표\n",
    "\n",
    "# 지표에는 여러가지들이 있다.\n",
    "#  - Mean Absolute Error\n",
    "#   :: 잔차의 절대값을 sum 하는 방식\n",
    "#      (0 에 가까울 수록 높은 적합도를 가짐)\n",
    "#  - Root Mean Squared Error (RMSE) >> 가장 많이 사용\n",
    "#   :: 잔차 제곱의 sum 의 루트\n",
    "#      (0 에 가까울 수록 높은 적합도를 가짐)\n",
    "#\n",
    "#  - R-Squared\n",
    "#   :: 기존 y 값과 예측 y^ 값과의 차이를 상관계수로 표현한 것\n",
    "#      (1 에 가까울 수록 높은 적합도를 가짐) \n",
    "#\n",
    "# (sklearn 에서는 큰 값일 수록 좋은 value 로 취급하는데, \n",
    "#  MAE 나 RMSE 같은 경우는 0 에 가까울 수록 좋은 value 이기에\n",
    "#  앞에 음수 (-) 를 붙여 사용한다.)"
   ]
  },
  {
   "cell_type": "code",
   "execution_count": 2,
   "metadata": {},
   "outputs": [
    {
     "data": {
      "text/plain": [
       "0.5"
      ]
     },
     "execution_count": 2,
     "metadata": {},
     "output_type": "execute_result"
    }
   ],
   "source": [
    "\"\"\" Mean Absolute Error \"\"\"\n",
    "from sklearn.metrics import mean_absolute_error\n",
    "\n",
    "y_true = [3, -0.5,  2, 7]\n",
    "y_pred = [2.5, 0.0, 2, 8]\n",
    "\n",
    "mean_absolute_error(y_true, y_pred)"
   ]
  },
  {
   "cell_type": "code",
   "execution_count": 3,
   "metadata": {},
   "outputs": [
    {
     "data": {
      "text/plain": [
       "0.375"
      ]
     },
     "execution_count": 3,
     "metadata": {},
     "output_type": "execute_result"
    }
   ],
   "source": [
    "\"\"\" Root Mean Squared Error (RMSE) \"\"\"\n",
    "# Cost Function 과 모양의 거의 같다. (루트만 씌운 것)\n",
    "# sklearn 에서는 루트가 없고 mean_squared_error 만 제공한다.\n",
    "from sklearn.metrics import mean_squared_error\n",
    "\n",
    "y_true = [3, -0.5, 2, 7]\n",
    "y_pred = [2.5, 0.0, 2, 8]\n",
    "\n",
    "mean_squared_error(y_true, y_pred)"
   ]
  },
  {
   "cell_type": "code",
   "execution_count": 4,
   "metadata": {},
   "outputs": [
    {
     "data": {
      "text/plain": [
       "0.9486081370449679"
      ]
     },
     "execution_count": 4,
     "metadata": {},
     "output_type": "execute_result"
    }
   ],
   "source": [
    "\"\"\" R-Squared \"\"\"\n",
    "from sklearn.metrics import r2_score\n",
    "\n",
    "y_true = [3, -0.5, 2, 7]\n",
    "y_pred = [2.5, 0.0, 2, 8]\n",
    "r2_score(y_true, y_pred)"
   ]
  },
  {
   "cell_type": "code",
   "execution_count": 5,
   "metadata": {},
   "outputs": [
    {
     "data": {
      "text/plain": [
       "' Training & Test Data Set '"
      ]
     },
     "execution_count": 5,
     "metadata": {},
     "output_type": "execute_result"
    }
   ],
   "source": [
    "\"\"\" Training & Test Data Set \"\"\"\n",
    "# - Training 한 데이터로 다시 Test 를 할 경우, Training 데이터에 과도하게 fitting 된 모델을 사용하게 될 가능성이 높다.\n",
    "#   >> 따라서 새로운 데이터가 출현했을 때, 기존 모델과의 차이가 존재함\n",
    "# - 모델은 새로운 데이터가 처리 가능하도록 generalize 되야 함\n",
    "# - 이를 위해 Training Set 과 Test Set 을 분리함\n",
    "\n",
    "# < 과정 >\n",
    "# 1. 데이터 set 을 Training set 과 Test set 으로 나눔\n",
    "# 2. Training Set 을 가지고 모델을 만듬\n",
    "# 3. 완성된 모델을 RMSE 와 같은 지표로 평가한다.\n",
    "# (weight 의 값에 따라 model 이 다양하게 생성되므로, Test set 으로 평가한다.)"
   ]
  },
  {
   "cell_type": "code",
   "execution_count": 6,
   "metadata": {},
   "outputs": [],
   "source": [
    "\"\"\" Hold-out Method(Sampling) \"\"\"\n",
    "# Training Data Set 과 Test Data Set 을 나누는 과정\n",
    "\n",
    "# - 데이터를 Training 과 Test 로 나눠서 모델을 생성하고 테스트하는 기법\n",
    "# - 가장 일반적인 모델 생성을 위한 데이터 랜덤 샘플링 기법\n",
    "# - Training 과 Test 를 나누는 비율은 데이터의 크기에 따라 다름\n",
    "# - 일반적으로 Training Data 2/3, Test Data 1/3 을 활용함\n",
    "\n",
    "import numpy as np\n",
    "from sklearn.model_selection import train_test_split\n",
    "\n",
    "X, y = (np.arange(10).reshape(5, 2), range(5))\n",
    "\n",
    "X_train, X_test, y_train, y_test = train_test_split(\n",
    "    X, y, test_size=0.33, random_state=42\n",
    ")"
   ]
  },
  {
   "cell_type": "code",
   "execution_count": 7,
   "metadata": {},
   "outputs": [
    {
     "data": {
      "text/plain": [
       "array([[4, 5],\n       [0, 1],\n       [6, 7]])"
      ]
     },
     "execution_count": 7,
     "metadata": {},
     "output_type": "execute_result"
    }
   ],
   "source": [
    "X_train"
   ]
  },
  {
   "cell_type": "code",
   "execution_count": 8,
   "metadata": {},
   "outputs": [
    {
     "data": {
      "text/plain": [
       "array([[2, 3],\n       [8, 9]])"
      ]
     },
     "execution_count": 8,
     "metadata": {},
     "output_type": "execute_result"
    }
   ],
   "source": [
    "X_test"
   ]
  },
  {
   "cell_type": "code",
   "execution_count": 9,
   "metadata": {},
   "outputs": [
    {
     "data": {
      "text/plain": [
       "[2, 0, 3]"
      ]
     },
     "execution_count": 9,
     "metadata": {},
     "output_type": "execute_result"
    }
   ],
   "source": [
    "y_train"
   ]
  },
  {
   "cell_type": "code",
   "execution_count": 10,
   "metadata": {},
   "outputs": [
    {
     "data": {
      "text/plain": [
       "[1, 4]"
      ]
     },
     "execution_count": 10,
     "metadata": {},
     "output_type": "execute_result"
    }
   ],
   "source": [
    "y_test"
   ]
  }
 ],
 "metadata": {
  "kernelspec": {
   "display_name": "Python 2",
   "language": "python",
   "name": "python2"
  },
  "language_info": {
   "codemirror_mode": {
    "name": "ipython",
    "version": 2
   },
   "file_extension": ".py",
   "mimetype": "text/x-python",
   "name": "python",
   "nbconvert_exporter": "python",
   "pygments_lexer": "ipython2",
   "version": "2.7.6"
  }
 },
 "nbformat": 4,
 "nbformat_minor": 0
}
