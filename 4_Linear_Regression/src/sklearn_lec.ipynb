{
 "cells": [
  {
   "cell_type": "code",
   "execution_count": 1,
   "metadata": {
    "collapsed": true
   },
   "outputs": [],
   "source": [
    "\"\"\" sklearn \"\"\"\n",
    "from sklearn.datasets import load_boston\n",
    "import matplotlib.pyplot as plt\n",
    "import numpy as np"
   ]
  },
  {
   "cell_type": "code",
   "execution_count": 2,
   "metadata": {},
   "outputs": [
    {
     "name": "stdout",
     "output_type": "stream",
     "text": [
      "Boston House Prices dataset\n===========================\n\nNotes\n------\nData Set Characteristics:  \n\n    :Number of Instances: 506 \n\n    :Number of Attributes: 13 numeric/categorical predictive\n    \n    :Median Value (attribute 14) is usually the target\n\n    :Attribute Information (in order):\n        - CRIM     per capita crime rate by town\n        - ZN       proportion of residential land zoned for lots over 25,000 sq.ft.\n        - INDUS    proportion of non-retail business acres per town\n        - CHAS     Charles River dummy variable (= 1 if tract bounds river; 0 otherwise)\n        - NOX      nitric oxides concentration (parts per 10 million)\n        - RM       average number of rooms per dwelling\n        - AGE      proportion of owner-occupied units built prior to 1940\n        - DIS      weighted distances to five Boston employment centres\n        - RAD      index of accessibility to radial highways\n        - TAX      full-value property-tax rate per $10,000\n        - PTRATIO  pupil-teacher ratio by town\n        - B        1000(Bk - 0.63)^2 where Bk is the proportion of blacks by town\n        - LSTAT    % lower status of the population\n        - MEDV     Median value of owner-occupied homes in $1000's\n\n    :Missing Attribute Values: None\n\n    :Creator: Harrison, D. and Rubinfeld, D.L.\n\nThis is a copy of UCI ML housing dataset.\nhttp://archive.ics.uci.edu/ml/datasets/Housing\n\n\nThis dataset was taken from the StatLib library which is maintained at Carnegie Mellon University.\n\nThe Boston house-price data of Harrison, D. and Rubinfeld, D.L. 'Hedonic\nprices and the demand for clean air', J. Environ. Economics & Management,\nvol.5, 81-102, 1978.   Used in Belsley, Kuh & Welsch, 'Regression diagnostics\n...', Wiley, 1980.   N.B. Various transformations are used in the table on\npages 244-261 of the latter.\n\nThe Boston house-price data has been used in many machine learning papers that address regression\nproblems.   \n     \n**References**\n\n   - Belsley, Kuh & Welsch, 'Regression diagnostics: Identifying Influential Data and Sources of Collinearity', Wiley, 1980. 244-261.\n   - Quinlan,R. (1993). Combining Instance-Based and Model-Based Learning. In Proceedings on the Tenth International Conference of Machine Learning, 236-243, University of Massachusetts, Amherst. Morgan Kaufmann.\n   - many more! (see http://archive.ics.uci.edu/ml/datasets/Housing)\n\n"
     ]
    }
   ],
   "source": [
    "# sklearn 에 boston 데이터 set 이 있다.\n",
    "boston = load_boston()\n",
    "print(boston[\"DESCR\"])"
   ]
  },
  {
   "cell_type": "code",
   "execution_count": 3,
   "metadata": {},
   "outputs": [
    {
     "data": {
      "text/plain": [
       "dict_keys(['data', 'target', 'feature_names', 'DESCR'])"
      ]
     },
     "execution_count": 3,
     "metadata": {},
     "output_type": "execute_result"
    }
   ],
   "source": [
    "# col 들\n",
    "boston.keys()"
   ]
  },
  {
   "cell_type": "code",
   "execution_count": 4,
   "metadata": {},
   "outputs": [
    {
     "data": {
      "text/plain": [
       "array([[6.3200e-03, 1.8000e+01, 2.3100e+00, 0.0000e+00, 5.3800e-01,\n        6.5750e+00, 6.5200e+01, 4.0900e+00, 1.0000e+00, 2.9600e+02,\n        1.5300e+01, 3.9690e+02, 4.9800e+00],\n       [2.7310e-02, 0.0000e+00, 7.0700e+00, 0.0000e+00, 4.6900e-01,\n        6.4210e+00, 7.8900e+01, 4.9671e+00, 2.0000e+00, 2.4200e+02,\n        1.7800e+01, 3.9690e+02, 9.1400e+00],\n       [2.7290e-02, 0.0000e+00, 7.0700e+00, 0.0000e+00, 4.6900e-01,\n        7.1850e+00, 6.1100e+01, 4.9671e+00, 2.0000e+00, 2.4200e+02,\n        1.7800e+01, 3.9283e+02, 4.0300e+00]])"
      ]
     },
     "execution_count": 4,
     "metadata": {},
     "output_type": "execute_result"
    }
   ],
   "source": [
    "# sklearn 에서 fitting 을 시켜줄 때 반드시 2-dimensional-array 로 만들어줘야 함\n",
    "# >> 따라서 y_data 는 reshape 한다.\n",
    "x_data = boston.data\n",
    "y_data = boston.target.reshape(boston.target.size, 1)\n",
    "\n",
    "x_data[:3]"
   ]
  },
  {
   "cell_type": "code",
   "execution_count": 5,
   "metadata": {},
   "outputs": [
    {
     "data": {
      "text/plain": [
       "array([[0.00000000e+00, 1.80000000e-01, 6.78152493e-02, 0.00000000e+00,\n        3.14814815e-01, 5.77505269e-01, 6.41606591e-01, 2.69203139e-01,\n        0.00000000e+00, 2.08015267e-01, 2.87234043e-01, 1.00000000e+00,\n        8.96799117e-02],\n       [2.35922539e-04, 0.00000000e+00, 2.42302053e-01, 0.00000000e+00,\n        1.72839506e-01, 5.47997701e-01, 7.82698249e-01, 3.48961980e-01,\n        4.34782609e-02, 1.04961832e-01, 5.53191489e-01, 1.00000000e+00,\n        2.04470199e-01],\n       [2.35697744e-04, 0.00000000e+00, 2.42302053e-01, 0.00000000e+00,\n        1.72839506e-01, 6.94385898e-01, 5.99382080e-01, 3.48961980e-01,\n        4.34782609e-02, 1.04961832e-01, 5.53191489e-01, 9.89737254e-01,\n        6.34657837e-02]])"
      ]
     },
     "execution_count": 5,
     "metadata": {},
     "output_type": "execute_result"
    }
   ],
   "source": [
    "# min-max scaler 를 사용해서 x date 를 min-max scaling 해준다.\n",
    "# >> 모두 0 과 1 사이의 값으로 변환하게 된다.\n",
    "from sklearn import preprocessing\n",
    "\n",
    "minmax_scale = preprocessing.MinMaxScaler().fit(x_data)\n",
    "x_scaled_data = minmax_scale.transform(x_data)\n",
    "\n",
    "x_scaled_data[:3]"
   ]
  },
  {
   "cell_type": "code",
   "execution_count": 6,
   "metadata": {},
   "outputs": [],
   "source": [
    "\"\"\" Linear Regression with sklearn \"\"\"\n",
    "\n",
    "# Linear Regression 을 사용하기 전에, \n",
    "# Training data set 과 Test data set 을 나눠줘야 한다. (sampling 작업)\n",
    "from sklearn.model_selection import train_test_split\n",
    "\n",
    "X_train, X_test, y_train, y_test = \\\n",
    "    train_test_split(x_scaled_data, y_data, test_size=0.2)  # test_size 는 전체 data 중 test data set 이 차지하는 비율이다."
   ]
  },
  {
   "cell_type": "code",
   "execution_count": 7,
   "metadata": {},
   "outputs": [
    {
     "data": {
      "text/plain": [
       "(array([[8.27335049e-02, 0.00000000e+00, 6.46627566e-01, ...,\n         8.08510638e-01, 2.43103535e-01, 5.46081678e-01],\n        [2.39912654e-03, 0.00000000e+00, 2.36436950e-01, ...,\n         5.63829787e-01, 1.00000000e+00, 3.99282561e-01],\n        [4.22412619e-03, 0.00000000e+00, 2.10410557e-01, ...,\n         5.10638298e-01, 9.75994755e-01, 3.86313466e-02],\n        ...,\n        [1.04895837e-01, 0.00000000e+00, 6.46627566e-01, ...,\n         8.08510638e-01, 1.52302184e-01, 6.16721854e-01],\n        [4.21153766e-04, 8.00000000e-01, 1.06671554e-01, ...,\n         3.72340426e-01, 1.00000000e+00, 2.34823400e-01],\n        [6.55727534e-04, 7.00000000e-01, 6.52492669e-02, ...,\n         2.34042553e-01, 9.27732110e-01, 8.94039735e-02]]), 404)"
      ]
     },
     "execution_count": 7,
     "metadata": {},
     "output_type": "execute_result"
    }
   ],
   "source": [
    "X_train, len(X_train)"
   ]
  },
  {
   "cell_type": "code",
   "execution_count": 8,
   "metadata": {},
   "outputs": [
    {
     "data": {
      "text/plain": [
       "(array([[8.26434519e-01, 0.00000000e+00, 6.46627566e-01, ...,\n         8.08510638e-01, 4.06727520e-02, 5.21247241e-01],\n        [5.77521291e-03, 2.00000000e-01, 1.28665689e-01, ...,\n         4.25531915e-02, 9.74683544e-01, 1.15342163e-01],\n        [7.04395690e-04, 0.00000000e+00, 9.23387097e-01, ...,\n         6.91489362e-01, 9.80457915e-01, 3.48785872e-01],\n        ...,\n        [4.30993950e-01, 0.00000000e+00, 6.46627566e-01, ...,\n         8.08510638e-01, 1.00000000e+00, 7.96357616e-01],\n        [5.54007716e-04, 7.00000000e-01, 6.52492669e-02, ...,\n         2.34042553e-01, 9.36154118e-01, 8.30573951e-02],\n        [7.32719882e-04, 0.00000000e+00, 1.47727273e-01, ...,\n         6.27659574e-01, 9.95587271e-01, 1.85154525e-01]]), 102)"
      ]
     },
     "execution_count": 8,
     "metadata": {},
     "output_type": "execute_result"
    }
   ],
   "source": [
    "X_test, len(X_test)"
   ]
  },
  {
   "cell_type": "code",
   "execution_count": 9,
   "metadata": {},
   "outputs": [
    {
     "data": {
      "text/plain": [
       "(array([[11. ],\n        [19.4],\n        [37.6],\n        [31.6],\n        [14.6],\n        [24.6],\n        [17. ],\n        [24.8],\n        [28.6],\n        [18.8]]), 404)"
      ]
     },
     "execution_count": 9,
     "metadata": {},
     "output_type": "execute_result"
    }
   ],
   "source": [
    "y_train[:10], len(y_train)"
   ]
  },
  {
   "cell_type": "code",
   "execution_count": 10,
   "metadata": {},
   "outputs": [
    {
     "data": {
      "text/plain": [
       "(array([[ 8.8],\n        [48.8],\n        [22. ],\n        [20.8],\n        [20.5],\n        [18.2],\n        [22.2],\n        [22.6],\n        [44.8],\n        [19.9]]), 102)"
      ]
     },
     "execution_count": 10,
     "metadata": {},
     "output_type": "execute_result"
    }
   ],
   "source": [
    "y_test[:10], len(y_test)"
   ]
  },
  {
   "cell_type": "code",
   "execution_count": 11,
   "metadata": {},
   "outputs": [
    {
     "data": {
      "text/plain": [
       "LinearRegression(copy_X=True, fit_intercept=True, n_jobs=-1, normalize=False)"
      ]
     },
     "execution_count": 11,
     "metadata": {},
     "output_type": "execute_result"
    }
   ],
   "source": [
    "# linear_model 의 모듈을 통해 Linear Regression 을 쉽게 사용 가능\n",
    "# (아래 linear_model 은 sklearn 에서 제공하는 Normal Equation 로 만들어진 Linear Regression 모델이다.)\n",
    "from sklearn import linear_model\n",
    "\n",
    "regr = linear_model.LinearRegression(fit_intercept=True,  # 상수항의 유무\n",
    "                                     normalize=False,  # 정규화 여부 (이미 min-max scaling 으로 정규화를 해줘여 여기선 패스)\n",
    "                                     copy_X=True,  # 복사한 데이터로 분석할 것인가 ?\n",
    "                                     n_jobs=-1)  # CPU 의 갯수 (만약 -1 이면 자동으로 최대 CPU 갯수로 맞춘다.)\n",
    "\n",
    "regr.fit(X_train, y_train)  # fitting 과정 (반드시 training data set 을 넣어줘야 한다.)\n",
    "regr  # 모델 생성"
   ]
  },
  {
   "cell_type": "code",
   "execution_count": 12,
   "metadata": {},
   "outputs": [
    {
     "data": {
      "text/plain": [
       "(array([[ -9.33501696,   4.22660846,   0.87172049,   2.18606275,\n          -8.31014724,  19.43023175,  -0.78555946, -15.2534643 ,\n           6.21101978,  -5.99460052,  -8.31897137,   4.04761985,\n         -18.51746402]]), array([26.08128806]))"
      ]
     },
     "execution_count": 12,
     "metadata": {},
     "output_type": "execute_result"
    }
   ],
   "source": [
    "# 모델이 생성됐다는 말은, 즉 weight 의 값이 정해졌다는 말이다.\n",
    "# 사실 위의 모델은,\n",
    "# >> y^ = w0 + w1x1 + w2x2 + ... + w13x13\n",
    "# 이고,\n",
    "# regr.intercept_ (절편) 값은 w0 이다.\n",
    "regr.coef_, regr.intercept_  # coefficient 와 intercept(절편) 값 출력"
   ]
  },
  {
   "cell_type": "code",
   "execution_count": 13,
   "metadata": {},
   "outputs": [
    {
     "name": "stdout",
     "output_type": "stream",
     "text": [
      "Coefficients :  [[ -9.33501696   4.22660846   0.87172049   2.18606275  -8.31014724\n   19.43023175  -0.78555946 -15.2534643    6.21101978  -5.99460052\n   -8.31897137   4.04761985 -18.51746402]]\nIntercept(w0) :  [26.08128806]\n"
     ]
    }
   ],
   "source": [
    "# 다시 정리\n",
    "print(\"Coefficients : \", regr.coef_)\n",
    "print(\"Intercept(w0) : \", regr.intercept_)"
   ]
  },
  {
   "cell_type": "code",
   "execution_count": 14,
   "metadata": {},
   "outputs": [
    {
     "data": {
      "text/plain": [
       "array([[ 5.62195935],\n       [39.84328533],\n       [22.03542699],\n       [17.84147811],\n       [20.48899226],\n       [15.06587353],\n       [19.68247604],\n       [26.15423456],\n       [37.62097272],\n       [17.9059275 ]])"
      ]
     },
     "execution_count": 14,
     "metadata": {},
     "output_type": "execute_result"
    }
   ],
   "source": [
    "\"\"\" 만들어진 모델에 대한 성능 비교 \"\"\"\n",
    "\n",
    "# predict() 를 사용하면 특정 값에 대해 예측을 할 수 있다.\n",
    "# (scaled 된 값을 넣어야 한다. (왜냐하면 scaled 된 값을 위에서 학습시켰기 때문))\n",
    "y_pred = regr.predict(X_test)  # x_test 의 row 10 까지 예측을 하라\n",
    "\n",
    "y_pred[:10]"
   ]
  },
  {
   "cell_type": "code",
   "execution_count": 15,
   "metadata": {},
   "outputs": [
    {
     "data": {
      "text/plain": [
       "5.100334481499312"
      ]
     },
     "execution_count": 15,
     "metadata": {},
     "output_type": "execute_result"
    }
   ],
   "source": [
    "# RMSE 방법 (직접 구현)\n",
    "np.sqrt(np.sum((y_test - y_pred) ** 2) / len(y_test))"
   ]
  },
  {
   "cell_type": "code",
   "execution_count": 16,
   "metadata": {},
   "outputs": [
    {
     "data": {
      "text/plain": [
       "5.100334481499312"
      ]
     },
     "execution_count": 16,
     "metadata": {},
     "output_type": "execute_result"
    }
   ],
   "source": [
    "# RMSE 방법 (sklearn 사용)\n",
    "from sklearn.metrics import mean_squared_error\n",
    "\n",
    "np.sqrt(mean_squared_error(y_true=y_test, y_pred=y_pred))"
   ]
  }
 ],
 "metadata": {
  "kernelspec": {
   "display_name": "Python 2",
   "language": "python",
   "name": "python2"
  },
  "language_info": {
   "codemirror_mode": {
    "name": "ipython",
    "version": 2
   },
   "file_extension": ".py",
   "mimetype": "text/x-python",
   "name": "python",
   "nbconvert_exporter": "python",
   "pygments_lexer": "ipython2",
   "version": "2.7.6"
  }
 },
 "nbformat": 4,
 "nbformat_minor": 0
}
